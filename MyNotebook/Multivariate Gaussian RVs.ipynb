{
 "cells": [
  {
   "cell_type": "markdown",
   "metadata": {},
   "source": [
    "Reference site: http://aishack.in/tutorials/generating-multivariate-gaussian-random/"
   ]
  },
  {
   "cell_type": "code",
   "execution_count": 1,
   "metadata": {
    "collapsed": true
   },
   "outputs": [],
   "source": [
    "import numpy as np\n",
    "import math\n",
    "import matplotlib.pyplot as plt"
   ]
  },
  {
   "cell_type": "code",
   "execution_count": 2,
   "metadata": {
    "collapsed": true
   },
   "outputs": [],
   "source": [
    "def get_gaussian_random():\n",
    "    m = 0\n",
    "    while m == 0:\n",
    "        m = round(np.random.random() * 100)\n",
    "    numbers = np.random.random(int(m))\n",
    "    summation = float(np.sum(numbers))\n",
    "    gaussian = (summation - m/2) / math.sqrt(m/12.0)\n",
    "    \n",
    "    return gaussian"
   ]
  },
  {
   "cell_type": "code",
   "execution_count": 3,
   "metadata": {
    "collapsed": true
   },
   "outputs": [],
   "source": [
    "def generate_known_gaussian(dimensions):\n",
    "    count = 10000\n",
    "    \n",
    "    ret = []\n",
    "    for i in range(count):\n",
    "        current_vector = []\n",
    "        for j in range(dimensions):\n",
    "            g = get_gaussian_random()\n",
    "            current_vector.append(g)\n",
    "            \n",
    "        ret.append(tuple(current_vector))\n",
    "    return ret"
   ]
  },
  {
   "cell_type": "code",
   "execution_count": 4,
   "metadata": {
    "collapsed": true
   },
   "outputs": [],
   "source": [
    "def learn_mean_cov_from_sample(pts):\n",
    "    learned_mean = np.matrix([[0.0], [0.0]])\n",
    "    learned_cov  = np.zeros( (2, 2) )\n",
    "    count = len(pts)\n",
    "    for pt in pts:\n",
    "        learned_mean += pt\n",
    "        learned_cov  += pt*pt.transpose()\n",
    "\n",
    "    learned_mean /= count\n",
    "    learned_cov /= count\n",
    "    learned_cov -= learned_mean * learned_mean.transpose()\n",
    "\n",
    "    print(learned_mean.transpose())\n",
    "    print(learned_cov)"
   ]
  },
  {
   "cell_type": "code",
   "execution_count": 5,
   "metadata": {
    "collapsed": true
   },
   "outputs": [],
   "source": [
    "def main():\n",
    "    known = generate_known_gaussian(2)\n",
    "    \n",
    "    target_mean = np.matrix([[1.0], [3.0]])\n",
    "    target_cov = np.matrix([[1.0, 0.7],\n",
    "                            [0.7, 0.6]])\n",
    "    \n",
    "    [eigenvalues, eigenvectors] = np.linalg.eig(target_cov)\n",
    "    \n",
    "    l = np.matrix(np.diag(np.sqrt(eigenvalues)))\n",
    "    Q = np.matrix(eigenvectors) * l\n",
    "    \n",
    "    x1_tweaked = []\n",
    "    x2_tweaked = []\n",
    "    tweaked_all = []\n",
    "    for i, j in known:\n",
    "        original = np.matrix([[i], [j]]).copy()\n",
    "        tweaked = (Q * original) + target_mean\n",
    "        \n",
    "        x1_tweaked.append(float(tweaked[0]))\n",
    "        x2_tweaked.append(float(tweaked[1]))\n",
    "        tweaked_all.append(tweaked)\n",
    "    \n",
    "    learn_mean_cov_from_sample(tweaked_all)\n",
    "    \n",
    "    plt.scatter(x1_tweaked, x2_tweaked)\n",
    "    plt.axis([-6, 10, -6, 10])\n",
    "    plt.hlines(0, -6, 10)\n",
    "    plt.vlines(0, -6, 10)\n",
    "    plt.show()"
   ]
  },
  {
   "cell_type": "code",
   "execution_count": 6,
   "metadata": {
    "collapsed": false
   },
   "outputs": [
    {
     "name": "stdout",
     "output_type": "stream",
     "text": [
      "[[ 0.99372358  3.00298315]]\n",
      "[[ 0.97632524  0.68424865]\n",
      " [ 0.68424865  0.59047596]]\n"
     ]
    },
    {
     "data": {
      "image/png": "[encoded data removed]",
      "text/plain": [
       "<matplotlib.figure.Figure at 0x5f68780>"
      ]
     },
     "metadata": {},
     "output_type": "display_data"
    }
   ],
   "source": [
    "if __name__ == \"__main__\":\n",
    "    main()"
   ]
  },
  {
   "cell_type": "code",
   "execution_count": 7,
   "metadata": {
    "collapsed": false
   },
   "outputs": [
    {
     "data": {
      "image/png": "[encoded data removed]",
      "text/plain": [
       "<matplotlib.figure.Figure at 0xa05d0f0>"
      ]
     },
     "metadata": {},
     "output_type": "display_data"
    }
   ],
   "source": [
    "mean = [1.0, 3.0]\n",
    "cov = [[1.0, 0.7],\n",
    "       [0.7, 0.6]]\n",
    "\n",
    "x, y = np.random.multivariate_normal(mean, cov, 10000).T\n",
    "plt.scatter(x, y)\n",
    "plt.axis([-6, 10, -6, 10])\n",
    "plt.hlines(0, -6, 10)\n",
    "plt.vlines(0, -6, 10)\n",
    "plt.show()"
   ]
  }
 ],
 "metadata": {
  "kernelspec": {
   "display_name": "Python 3",
   "language": "python",
   "name": "python3"
  },
  "language_info": {
   "codemirror_mode": {
    "name": "ipython",
    "version": 3
   },
   "file_extension": ".py",
   "mimetype": "text/x-python",
   "name": "python",
   "nbconvert_exporter": "python",
   "pygments_lexer": "ipython3",
   "version": "3.6.0"
  }
 },
 "nbformat": 4,
 "nbformat_minor": 2
}
