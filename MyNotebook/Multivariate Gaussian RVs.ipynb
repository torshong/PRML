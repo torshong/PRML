{
 "cells": [
  {
   "cell_type": "markdown",
   "metadata": {},
   "source": [
    "Reference site: http://aishack.in/tutorials/generating-multivariate-gaussian-random/"
   ]
  },
  {
   "cell_type": "code",
   "execution_count": 14,
   "metadata": {
    "collapsed": true
   },
   "outputs": [],
   "source": [
    "import numpy as np\n",
    "import math\n",
    "import matplotlib.pyplot as plt"
   ]
  },
  {
   "cell_type": "code",
   "execution_count": 15,
   "metadata": {
    "collapsed": true
   },
   "outputs": [],
   "source": [
    "def get_gaussian_random():\n",
    "    m = 0\n",
    "    while m == 0:\n",
    "        m = round(np.random.random() * 100)\n",
    "    numbers = np.random.random(int(m))\n",
    "    summation = float(np.sum(numbers))\n",
    "    gaussian = (summation - m/2) / math.sqrt(m/12.0)\n",
    "    \n",
    "    return gaussian"
   ]
  },
  {
   "cell_type": "code",
   "execution_count": 16,
   "metadata": {},
   "outputs": [],
   "source": [
    "def generate_known_gaussian(dimensions):\n",
    "    count = 1000\n",
    "    \n",
    "    ret = []\n",
    "    for i in range(count):\n",
    "        current_vector = []\n",
    "        for j in range(dimensions):\n",
    "            g = get_gaussian_random()\n",
    "            current_vector.append(g)\n",
    "            \n",
    "        ret.append(tuple(current_vector))\n",
    "    return ret"
   ]
  },
  {
   "cell_type": "code",
   "execution_count": 20,
   "metadata": {
    "collapsed": true
   },
   "outputs": [],
   "source": [
    "def main():\n",
    "    known = generate_known_gaussian(2)\n",
    "    \n",
    "    target_mean = np.matrix([[1.0], [5.0]])\n",
    "    target_cov = np.matrix([[1.0, 0.7],\n",
    "                                            [0.7, 0.6]])\n",
    "    \n",
    "    [eigenvalues, eigenvectors] = np.linalg.eig(target_cov)\n",
    "    \n",
    "    l = np.matrix(np.diag(np.sqrt(eigenvalues)))\n",
    "    Q = np.matrix(eigenvectors) * l\n",
    "    \n",
    "    x1_tweaked = []\n",
    "    x2_tweaked = []\n",
    "    tweaked_all = []\n",
    "    for i, j in known:\n",
    "        original = np.matrix([[i], [j]]).copy()\n",
    "        tweaked = (Q * original) + target_mean\n",
    "        \n",
    "        x1_tweaked.append(float(tweaked[0]))\n",
    "        x2_tweaked.append(float(tweaked[1]))\n",
    "        tweaked_all.append(tweaked)\n",
    "    \n",
    "    plt.scatter(x1_tweaked, x2_tweaked)\n",
    "    plt.axis([-6, 10, -6, 10])\n",
    "    plt.hlines(0, -6, 10)\n",
    "    plt.vlines(0, -6, 10)\n",
    "    plt.show()"
   ]
  },
  {
   "cell_type": "code",
   "execution_count": 21,
   "metadata": {},
   "outputs": [
    {
     "data": {
      "image/png": "[encoded data removed]",
      "text/plain": [
       "<matplotlib.figure.Figure at 0x6379da0>"
      ]
     },
     "metadata": {},
     "output_type": "display_data"
    }
   ],
   "source": [
    "if __name__ == \"__main__\":\n",
    "    main()"
   ]
  },
  {
   "cell_type": "code",
   "execution_count": 23,
   "metadata": {},
   "outputs": [
    {
     "data": {
      "image/png": "[encoded data removed]",
      "text/plain": [
       "<matplotlib.figure.Figure at 0x97845f8>"
      ]
     },
     "metadata": {},
     "output_type": "display_data"
    }
   ],
   "source": [
    "mean = [1.0, 5.0]\n",
    "cov = [[1.0, 0.7], [0.7, 0.6]]\n",
    "\n",
    "x, y = np.random.multivariate_normal(mean, cov, 1000).T\n",
    "plt.scatter(x, y)\n",
    "plt.axis([-6, 10, -6, 10])\n",
    "plt.hlines(0, -6, 10)\n",
    "plt.vlines(0, -6, 10)\n",
    "plt.show()"
   ]
  }
 ],
 "metadata": {
  "kernelspec": {
   "display_name": "Python 3",
   "language": "python",
   "name": "python3"
  },
  "language_info": {
   "codemirror_mode": {
    "name": "ipython",
    "version": 3
   },
   "file_extension": ".py",
   "mimetype": "text/x-python",
   "name": "python",
   "nbconvert_exporter": "python",
   "pygments_lexer": "ipython3",
   "version": "3.6.1"
  }
 },
 "nbformat": 4,
 "nbformat_minor": 2
}
